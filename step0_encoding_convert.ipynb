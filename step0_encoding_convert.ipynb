{
 "cells": [
  {
   "cell_type": "code",
   "execution_count": 1,
   "metadata": {},
   "outputs": [],
   "source": [
    "import pandas as pd\n",
    "import numpy as np"
   ]
  },
  {
   "cell_type": "code",
   "execution_count": 2,
   "metadata": {},
   "outputs": [],
   "source": [
    "member_train = pd.read_csv('Data/member_train.csv')\n",
    "member_valid = pd.read_csv('Data/member_valid.csv')"
   ]
  },
  {
   "cell_type": "code",
   "execution_count": 3,
   "metadata": {},
   "outputs": [],
   "source": [
    "order1 = pd.read_csv('Data/Order_201901_201903.csv')\n",
    "order2 = pd.read_csv('Data/Order_201904_201906.csv')\n",
    "order3 = pd.read_csv('Data/Order_201907_201909.csv')"
   ]
  },
  {
   "cell_type": "code",
   "execution_count": 4,
   "metadata": {},
   "outputs": [],
   "source": [
    "data_train1 = order1.merge(member_train, left_on='會員編號', right_on='eCOM會員編號')\n",
    "data_train2 = order2.merge(member_train, left_on='會員編號', right_on='eCOM會員編號')\n",
    "data_train3 = order3.merge(member_train, left_on='會員編號', right_on='eCOM會員編號')\n",
    "# order3.merge(member_train, left_on='會員編號', right_on='eCOM會員編號')"
   ]
  },
  {
   "cell_type": "code",
   "execution_count": 5,
   "metadata": {},
   "outputs": [],
   "source": [
    "data_train = data_train1.copy()\n",
    "data_train = data_train.append(data_train2, ignore_index=True)\n",
    "# data_train = data_train.append(data_train3, ignore_index=True)"
   ]
  },
  {
   "cell_type": "code",
   "execution_count": 6,
   "metadata": {},
   "outputs": [
    {
     "data": {
      "text/plain": [
       "(15904, 83)"
      ]
     },
     "execution_count": 6,
     "metadata": {},
     "output_type": "execute_result"
    }
   ],
   "source": [
    "data_train.shape"
   ]
  },
  {
   "cell_type": "code",
   "execution_count": 7,
   "metadata": {},
   "outputs": [],
   "source": [
    "data_valid1 = order1.merge(member_valid, left_on='會員編號', right_on='eCOM會員編號')\n",
    "data_valid2 = order2.merge(member_valid, left_on='會員編號', right_on='eCOM會員編號')\n",
    "data_valid3 = order3.merge(member_valid, left_on='會員編號', right_on='eCOM會員編號')"
   ]
  },
  {
   "cell_type": "code",
   "execution_count": 8,
   "metadata": {},
   "outputs": [],
   "source": [
    "# data_valid = data_valid1.copy()\n",
    "# data_valid = data_valid.append(data_valid2, ignore_index=True)\n",
    "# data_valid = data_valid.append(data_valid3, ignore_index=True)\n",
    "data_valid = data_valid3.copy()"
   ]
  },
  {
   "cell_type": "code",
   "execution_count": 9,
   "metadata": {},
   "outputs": [
    {
     "data": {
      "text/plain": [
       "(10070, 83)"
      ]
     },
     "execution_count": 9,
     "metadata": {},
     "output_type": "execute_result"
    }
   ],
   "source": [
    "data_valid.shape"
   ]
  },
  {
   "cell_type": "code",
   "execution_count": null,
   "metadata": {},
   "outputs": [],
   "source": [
    "data_train.to_csv('data_train.csv')"
   ]
  },
  {
   "cell_type": "code",
   "execution_count": 11,
   "metadata": {},
   "outputs": [],
   "source": [
    "data_valid.to_csv('data_valid.csv')"
   ]
  },
  {
   "cell_type": "code",
   "execution_count": null,
   "metadata": {},
   "outputs": [],
   "source": []
  }
 ],
 "metadata": {
  "kernelspec": {
   "display_name": "Python 3",
   "language": "python",
   "name": "python3"
  },
  "language_info": {
   "codemirror_mode": {
    "name": "ipython",
    "version": 3
   },
   "file_extension": ".py",
   "mimetype": "text/x-python",
   "name": "python",
   "nbconvert_exporter": "python",
   "pygments_lexer": "ipython3",
   "version": "3.5.2"
  }
 },
 "nbformat": 4,
 "nbformat_minor": 2
}
