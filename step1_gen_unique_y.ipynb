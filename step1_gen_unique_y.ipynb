{
 "cells": [
  {
   "cell_type": "code",
   "execution_count": 1,
   "metadata": {},
   "outputs": [],
   "source": [
    "import numpy as np\n",
    "import pandas as pd"
   ]
  },
  {
   "cell_type": "code",
   "execution_count": 39,
   "metadata": {},
   "outputs": [],
   "source": [
    "data_train_x = pd.read_csv('data_train.csv')"
   ]
  },
  {
   "cell_type": "code",
   "execution_count": 40,
   "metadata": {},
   "outputs": [],
   "source": [
    "data_train_x.drop('Unnamed: 0',axis=1, inplace=True)"
   ]
  },
  {
   "cell_type": "code",
   "execution_count": 41,
   "metadata": {},
   "outputs": [
    {
     "data": {
      "text/plain": [
       "Index(['購物車編號', '主單編號', '訂單編號', '轉單日期時間', '預計出貨日期', '配送方式', '通路商', '溫層類別',\n",
       "       '收件人', '收件人電話', '地址_x', '門市', '訂單來源', '商品名稱', '商品選項', '商品料號', '數量',\n",
       "       '商品單價', '運費', '配送編號', '狀態日期', '出貨單狀態', '訂單狀態', '活動代碼', '活動名稱', '折扣金額',\n",
       "       '銷售金額(折扣後)', '付款方式', '活動折扣金額', '折價券活動序號', '折價券活動名稱', '折價券折扣金額',\n",
       "       '貨到物流中心日', '建議貨到期限', '會員編號', '商店備註', '訂購備註', '貨運單備註', '驗退原因說明',\n",
       "       '訂單確認日期', '實體會員編號', '商品屬性', '商品贈品關聯代碼', '購買人', '購買人會員等級', '活動對象',\n",
       "       '活動會員等級', '總成本', '是否為加價購品', '國碼', '收件國家', '取消原因', '購物車總額', '商品頁序號',\n",
       "       '點數活動名稱', '折抵點數', '點數折扣金額', 'eCOM會員編號', '手機號碼', '廠商自訂會員編號1',\n",
       "       '廠商自訂會員編號2', '會員卡名稱', '全名', '性別', '生日', 'Email', '最後消費日期', '最高消費門市名稱',\n",
       "       '最高消費來源', '最近一次消費門市名稱', '最近一次消費來源', '等級內累積消費金額', '總累積消費金額', '註冊來源',\n",
       "       '註冊門市', '註冊門市店櫃代號', '會員卡起始日', '會員卡到期日', '國家', '城市', '區', '地址_y',\n",
       "       '國家/地區'],\n",
       "      dtype='object')"
      ]
     },
     "execution_count": 41,
     "metadata": {},
     "output_type": "execute_result"
    }
   ],
   "source": [
    "data_train_x.columns"
   ]
  },
  {
   "cell_type": "code",
   "execution_count": 42,
   "metadata": {
    "scrolled": true
   },
   "outputs": [],
   "source": [
    "data_valid_x = pd.read_csv('data_valid.csv')"
   ]
  },
  {
   "cell_type": "code",
   "execution_count": 43,
   "metadata": {},
   "outputs": [],
   "source": [
    "data_valid_x.drop('Unnamed: 0',axis=1, inplace=True)"
   ]
  },
  {
   "cell_type": "code",
   "execution_count": 44,
   "metadata": {},
   "outputs": [
    {
     "data": {
      "text/plain": [
       "Index(['購物車編號', '主單編號', '訂單編號', '轉單日期時間', '預計出貨日期', '配送方式', '通路商', '溫層類別',\n",
       "       '收件人', '收件人電話', '地址_x', '門市', '訂單來源', '商品名稱', '商品選項', '商品料號', '數量',\n",
       "       '商品單價', '運費', '配送編號', '狀態日期', '出貨單狀態', '訂單狀態', '活動代碼', '活動名稱', '折扣金額',\n",
       "       '銷售金額(折扣後)', '付款方式', '活動折扣金額', '折價券活動序號', '折價券活動名稱', '折價券折扣金額',\n",
       "       '貨到物流中心日', '建議貨到期限', '會員編號', '商店備註', '訂購備註', '貨運單備註', '驗退原因說明',\n",
       "       '訂單確認日期', '實體會員編號', '商品屬性', '商品贈品關聯代碼', '購買人', '購買人會員等級', '活動對象',\n",
       "       '活動會員等級', '總成本', '是否為加價購品', '國碼', '收件國家', '取消原因', '購物車總額', '商品頁序號',\n",
       "       '點數活動名稱', '折抵點數', '點數折扣金額', 'eCOM會員編號', '手機號碼', '廠商自訂會員編號1',\n",
       "       '廠商自訂會員編號2', '會員卡名稱', '全名', '性別', '生日', 'Email', '最後消費日期', '最高消費門市名稱',\n",
       "       '最高消費來源', '最近一次消費門市名稱', '最近一次消費來源', '等級內累積消費金額', '總累積消費金額', '註冊來源',\n",
       "       '註冊門市', '註冊門市店櫃代號', '會員卡起始日', '會員卡到期日', '國家', '城市', '區', '地址_y',\n",
       "       '國家/地區'],\n",
       "      dtype='object')"
      ]
     },
     "execution_count": 44,
     "metadata": {},
     "output_type": "execute_result"
    }
   ],
   "source": [
    "data_valid_x.columns"
   ]
  },
  {
   "cell_type": "code",
   "execution_count": null,
   "metadata": {},
   "outputs": [],
   "source": []
  },
  {
   "cell_type": "code",
   "execution_count": 49,
   "metadata": {},
   "outputs": [],
   "source": [
    "data_train_y = data_train_x.groupby(['購物車編號','會員編號']).size().reset_index(name='是否回購')"
   ]
  },
  {
   "cell_type": "code",
   "execution_count": 52,
   "metadata": {},
   "outputs": [],
   "source": [
    "data_train_y.loc[data_train_y['是否回購'] < 2,'是否回購'] = 0\n",
    "data_train_y.loc[data_train_y['是否回購'] >= 2,'是否回購'] = 1"
   ]
  },
  {
   "cell_type": "code",
   "execution_count": 53,
   "metadata": {},
   "outputs": [],
   "source": []
  },
  {
   "cell_type": "code",
   "execution_count": 56,
   "metadata": {},
   "outputs": [],
   "source": [
    "data_valid_y = data_valid_x.groupby(['購物車編號','會員編號']).size().reset_index(name='是否回購')\n",
    "data_valid_y.loc[data_valid_y['是否回購'] < 2,'是否回購'] = 0\n",
    "data_valid_y.loc[data_valid_y['是否回購'] >= 2,'是否回購'] = 1"
   ]
  },
  {
   "cell_type": "code",
   "execution_count": 57,
   "metadata": {},
   "outputs": [
    {
     "data": {
      "text/html": [
       "<div>\n",
       "<style scoped>\n",
       "    .dataframe tbody tr th:only-of-type {\n",
       "        vertical-align: middle;\n",
       "    }\n",
       "\n",
       "    .dataframe tbody tr th {\n",
       "        vertical-align: top;\n",
       "    }\n",
       "\n",
       "    .dataframe thead th {\n",
       "        text-align: right;\n",
       "    }\n",
       "</style>\n",
       "<table border=\"1\" class=\"dataframe\">\n",
       "  <thead>\n",
       "    <tr style=\"text-align: right;\">\n",
       "      <th></th>\n",
       "      <th>購物車編號</th>\n",
       "      <th>會員編號</th>\n",
       "      <th>是否回購</th>\n",
       "    </tr>\n",
       "  </thead>\n",
       "  <tbody>\n",
       "    <tr>\n",
       "      <th>0</th>\n",
       "      <td>TG190701A01006</td>\n",
       "      <td>'5104609835</td>\n",
       "      <td>0</td>\n",
       "    </tr>\n",
       "    <tr>\n",
       "      <th>1</th>\n",
       "      <td>TG190701B00033</td>\n",
       "      <td>'5604102885</td>\n",
       "      <td>0</td>\n",
       "    </tr>\n",
       "    <tr>\n",
       "      <th>2</th>\n",
       "      <td>TG190701B00410</td>\n",
       "      <td>'68016960D5</td>\n",
       "      <td>0</td>\n",
       "    </tr>\n",
       "    <tr>\n",
       "      <th>3</th>\n",
       "      <td>TG190701B00442</td>\n",
       "      <td>'67036017C5</td>\n",
       "      <td>0</td>\n",
       "    </tr>\n",
       "    <tr>\n",
       "      <th>4</th>\n",
       "      <td>TG190701C00342</td>\n",
       "      <td>'5401988664</td>\n",
       "      <td>0</td>\n",
       "    </tr>\n",
       "  </tbody>\n",
       "</table>\n",
       "</div>"
      ],
      "text/plain": [
       "            購物車編號         會員編號  是否回購\n",
       "0  TG190701A01006  '5104609835     0\n",
       "1  TG190701B00033  '5604102885     0\n",
       "2  TG190701B00410  '68016960D5     0\n",
       "3  TG190701B00442  '67036017C5     0\n",
       "4  TG190701C00342  '5401988664     0"
      ]
     },
     "execution_count": 57,
     "metadata": {},
     "output_type": "execute_result"
    }
   ],
   "source": [
    "data_valid_y.head(5)"
   ]
  },
  {
   "cell_type": "code",
   "execution_count": 55,
   "metadata": {},
   "outputs": [],
   "source": [
    "data_train_y.to_csv('data_train_unique購物車編號_y.csv',index = False)"
   ]
  },
  {
   "cell_type": "code",
   "execution_count": 58,
   "metadata": {},
   "outputs": [],
   "source": [
    "data_valid_y.to_csv('data_valid_unique購物車編號_y.csv',index = False)"
   ]
  },
  {
   "cell_type": "code",
   "execution_count": 59,
   "metadata": {},
   "outputs": [],
   "source": [
    "data_train_x.to_csv('data_train_x.csv',index = False)\n",
    "data_valid_x.to_csv('data_valid_x.csv',index = False)"
   ]
  },
  {
   "cell_type": "code",
   "execution_count": null,
   "metadata": {},
   "outputs": [],
   "source": []
  }
 ],
 "metadata": {
  "kernelspec": {
   "display_name": "Python 3",
   "language": "python",
   "name": "python3"
  },
  "language_info": {
   "codemirror_mode": {
    "name": "ipython",
    "version": 3
   },
   "file_extension": ".py",
   "mimetype": "text/x-python",
   "name": "python",
   "nbconvert_exporter": "python",
   "pygments_lexer": "ipython3",
   "version": "3.5.2"
  }
 },
 "nbformat": 4,
 "nbformat_minor": 2
}
