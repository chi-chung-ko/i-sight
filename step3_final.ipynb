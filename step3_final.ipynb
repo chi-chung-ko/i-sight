{
 "cells": [
  {
   "cell_type": "code",
   "execution_count": 1,
   "metadata": {},
   "outputs": [],
   "source": [
    "import numpy as np\n",
    "import pandas as pd\n",
    "from xgboost import XGBClassifier\n",
    "from sklearn.model_selection import train_test_split\n",
    "from sklearn.metrics import accuracy_score"
   ]
  },
  {
   "cell_type": "code",
   "execution_count": 2,
   "metadata": {},
   "outputs": [
    {
     "name": "stderr",
     "output_type": "stream",
     "text": [
      "/usr/local/lib/python3.5/dist-packages/IPython/core/interactiveshell.py:3044: DtypeWarning: Columns (38,80,81) have mixed types. Specify dtype option on import or set low_memory=False.\n",
      "  interactivity=interactivity, compiler=compiler, result=result)\n",
      "/usr/local/lib/python3.5/dist-packages/IPython/core/interactiveshell.py:3044: DtypeWarning: Columns (24,35,36,45,46) have mixed types. Specify dtype option on import or set low_memory=False.\n",
      "  interactivity=interactivity, compiler=compiler, result=result)\n"
     ]
    }
   ],
   "source": [
    "train_x = pd.read_csv('data_train_x.csv')\n",
    "train_y = pd.read_csv('data_train_y.csv')\n",
    "valid_x = pd.read_csv('data_valid_x.csv')\n",
    "valid_y = pd.read_csv('data_valid_y.csv')"
   ]
  },
  {
   "cell_type": "code",
   "execution_count": 6,
   "metadata": {
    "scrolled": true
   },
   "outputs": [
    {
     "data": {
      "text/plain": [
       "(10070, 1)"
      ]
     },
     "execution_count": 6,
     "metadata": {},
     "output_type": "execute_result"
    }
   ],
   "source": [
    "valid_y.shape"
   ]
  },
  {
   "cell_type": "code",
   "execution_count": 11,
   "metadata": {},
   "outputs": [
    {
     "data": {
      "text/plain": [
       "Index(['購物車編號', '主單編號', '訂單編號', '轉單日期時間', '預計出貨日期', '配送方式', '通路商', '溫層類別',\n",
       "       '收件人', '收件人電話', '地址_x', '門市', '訂單來源', '商品名稱', '商品選項', '商品料號', '數量',\n",
       "       '商品單價', '運費', '配送編號', '狀態日期', '出貨單狀態', '訂單狀態', '活動代碼', '活動名稱', '折扣金額',\n",
       "       '銷售金額(折扣後)', '付款方式', '活動折扣金額', '折價券活動序號', '折價券活動名稱', '折價券折扣金額',\n",
       "       '貨到物流中心日', '建議貨到期限', '會員編號', '商店備註', '訂購備註', '貨運單備註', '驗退原因說明',\n",
       "       '訂單確認日期', '實體會員編號', '商品屬性', '商品贈品關聯代碼', '購買人', '購買人會員等級', '活動對象',\n",
       "       '活動會員等級', '總成本', '是否為加價購品', '國碼', '收件國家', '取消原因', '購物車總額', '商品頁序號',\n",
       "       '點數活動名稱', '折抵點數', '點數折扣金額', 'eCOM會員編號', '手機號碼', '廠商自訂會員編號1',\n",
       "       '廠商自訂會員編號2', '會員卡名稱', '全名', '性別', '生日', 'Email', '最後消費日期', '最高消費門市名稱',\n",
       "       '最高消費來源', '最近一次消費門市名稱', '最近一次消費來源', '等級內累積消費金額', '總累積消費金額', '註冊來源',\n",
       "       '註冊門市', '註冊門市店櫃代號', '會員卡起始日', '會員卡到期日', '國家', '城市', '區', '地址_y',\n",
       "       '國家/地區'],\n",
       "      dtype='object')"
      ]
     },
     "execution_count": 11,
     "metadata": {},
     "output_type": "execute_result"
    }
   ],
   "source": [
    "train_x.columns"
   ]
  },
  {
   "cell_type": "markdown",
   "metadata": {},
   "source": [
    "訂單確認日期 有nan\n",
    "商品屬性 nan, '活動贈品', '商品贈品'\n",
    "通路商 '7-11(統一)', '全家', nan\n",
    "商品贈品關聯代碼 nan應該是沒贈品吧?\n",
    "購買人 可能為nan\n",
    "商品頁序號 雖然都是數字 不過應該當類別處理\n",
    "折抵點數 = 點數折扣金額 * -1\n",
    "eCOM會員編號 = 會員編號\n",
    "購買人會員等級 = 會員卡名稱\n",
    "購買人 = 全名\n",
    "性別 有nan\n",
    "生日 有nan\n",
    "最高消費來源 有nan\n",
    "最近一次消費來源 有nan\n",
    "區 有nan\n",
    "地址_y 有nan\n",
    "國碼 和 收件國家 分別對應 ['台灣', '馬來西亞', '香港'] 可是 國家/地區 除了前述三者 還多了 日本"
   ]
  },
  {
   "cell_type": "code",
   "execution_count": 88,
   "metadata": {},
   "outputs": [
    {
     "data": {
      "text/plain": [
       "array(['台灣', '馬來西亞', '香港'], dtype=object)"
      ]
     },
     "execution_count": 88,
     "metadata": {},
     "output_type": "execute_result"
    }
   ],
   "source": [
    "train_x['收件國家'].unique()"
   ]
  },
  {
   "cell_type": "code",
   "execution_count": 89,
   "metadata": {},
   "outputs": [],
   "source": [
    "del_col_name = ['溫層類別', '商店備註', '訂購備註', '貨運單備註', '驗退原因說明', '實體會員編號'\n",
    "                ,'活動對象', '活動會員等級', '取消原因', '點數活動名稱', '折抵點數'\n",
    "               ,'eCOM會員編號', '廠商自訂會員編號1', '廠商自訂會員編號2', '會員卡名稱'\n",
    "               ,'全名', '最高消費門市名稱', '最近一次消費門市名稱', '註冊門市', '註冊門市店櫃代號'\n",
    "               ,'國家', '城市', '區', '地址_y']\n",
    "train_x.drop(del_col_name,axis=1, inplace=True)\n",
    "valid_x.drop(del_col_name,axis=1, inplace=True)"
   ]
  },
  {
   "cell_type": "code",
   "execution_count": 91,
   "metadata": {},
   "outputs": [
    {
     "data": {
      "text/plain": [
       "Index(['購物車編號', '主單編號', '訂單編號', '轉單日期時間', '預計出貨日期', '配送方式', '通路商', '收件人',\n",
       "       '收件人電話', '地址_x', '門市', '訂單來源', '商品名稱', '商品選項', '商品料號', '數量', '商品單價',\n",
       "       '運費', '配送編號', '狀態日期', '出貨單狀態', '訂單狀態', '活動代碼', '活動名稱', '折扣金額',\n",
       "       '銷售金額(折扣後)', '付款方式', '活動折扣金額', '折價券活動序號', '折價券活動名稱', '折價券折扣金額',\n",
       "       '貨到物流中心日', '建議貨到期限', '會員編號', '訂單確認日期', '商品屬性', '商品贈品關聯代碼', '購買人',\n",
       "       '購買人會員等級', '總成本', '是否為加價購品', '國碼', '收件國家', '購物車總額', '商品頁序號', '點數折扣金額',\n",
       "       '手機號碼', '性別', '生日', 'Email', '最後消費日期', '最高消費來源', '最近一次消費來源',\n",
       "       '等級內累積消費金額', '總累積消費金額', '註冊來源', '會員卡起始日', '會員卡到期日', '國家/地區'],\n",
       "      dtype='object')"
      ]
     },
     "execution_count": 91,
     "metadata": {},
     "output_type": "execute_result"
    }
   ],
   "source": [
    "train_x.columns"
   ]
  },
  {
   "cell_type": "code",
   "execution_count": 97,
   "metadata": {},
   "outputs": [
    {
     "data": {
      "text/plain": [
       "Index(['購物車編號', '主單編號', '訂單編號', '轉單日期時間', '預計出貨日期', '配送方式', '通路商', '收件人',\n",
       "       '收件人電話', '地址_x', '門市', '訂單來源', '商品名稱', '商品選項', '商品料號', '數量', '商品單價',\n",
       "       '運費', '配送編號', '狀態日期', '出貨單狀態', '訂單狀態', '活動代碼', '活動名稱', '折扣金額',\n",
       "       '銷售金額(折扣後)', '付款方式', '活動折扣金額', '折價券活動序號', '折價券活動名稱', '折價券折扣金額',\n",
       "       '貨到物流中心日', '建議貨到期限', '會員編號', '訂單確認日期', '商品屬性', '商品贈品關聯代碼', '購買人',\n",
       "       '購買人會員等級', '總成本', '是否為加價購品', '國碼', '收件國家', '購物車總額', '商品頁序號', '點數折扣金額',\n",
       "       '手機號碼', '性別', '生日', 'Email', '最後消費日期', '最高消費來源', '最近一次消費來源',\n",
       "       '等級內累積消費金額', '總累積消費金額', '註冊來源', '會員卡起始日', '會員卡到期日', '國家/地區'],\n",
       "      dtype='object')"
      ]
     },
     "execution_count": 97,
     "metadata": {},
     "output_type": "execute_result"
    }
   ],
   "source": [
    "valid_x.columns"
   ]
  },
  {
   "cell_type": "code",
   "execution_count": 106,
   "metadata": {},
   "outputs": [],
   "source": [
    "pred_colum = ['數量', '商品單價', '運費', '折扣金額', '銷售金額(折扣後)', '活動折扣金額', '折價券活動序號', '折價券折扣金額',\n",
    "       '總成本', '購物車總額', '商品頁序號', '點數折扣金額', '等級內累積消費金額', '總累積消費金額']"
   ]
  },
  {
   "cell_type": "code",
   "execution_count": 107,
   "metadata": {
    "scrolled": false
   },
   "outputs": [
    {
     "data": {
      "text/plain": [
       "XGBClassifier(base_score=0.5, booster='gbtree', colsample_bylevel=1,\n",
       "       colsample_bynode=1, colsample_bytree=1, gamma=0, learning_rate=0.1,\n",
       "       max_delta_step=0, max_depth=3, min_child_weight=1, missing=None,\n",
       "       n_estimators=100, n_jobs=1, nthread=None,\n",
       "       objective='binary:logistic', random_state=0, reg_alpha=0,\n",
       "       reg_lambda=1, scale_pos_weight=1, seed=None, silent=None,\n",
       "       subsample=1, verbosity=1)"
      ]
     },
     "execution_count": 107,
     "metadata": {},
     "output_type": "execute_result"
    }
   ],
   "source": [
    "model = XGBClassifier()\n",
    "model.fit(train_x[pred_colum], train_y)"
   ]
  },
  {
   "cell_type": "code",
   "execution_count": 109,
   "metadata": {},
   "outputs": [],
   "source": [
    "y_pred = model.predict(valid_x[pred_colum])\n",
    "predictions = [round(value) for value in y_pred]"
   ]
  },
  {
   "cell_type": "code",
   "execution_count": 110,
   "metadata": {},
   "outputs": [
    {
     "name": "stdout",
     "output_type": "stream",
     "text": [
      "Accuracy: 98.22%\n"
     ]
    }
   ],
   "source": [
    "# evaluate predictions\n",
    "accuracy = accuracy_score(valid_y, predictions)\n",
    "print(\"Accuracy: %.2f%%\" % (accuracy * 100.0))"
   ]
  },
  {
   "cell_type": "code",
   "execution_count": null,
   "metadata": {},
   "outputs": [],
   "source": []
  }
 ],
 "metadata": {
  "kernelspec": {
   "display_name": "Python 3",
   "language": "python",
   "name": "python3"
  },
  "language_info": {
   "codemirror_mode": {
    "name": "ipython",
    "version": 3
   },
   "file_extension": ".py",
   "mimetype": "text/x-python",
   "name": "python",
   "nbconvert_exporter": "python",
   "pygments_lexer": "ipython3",
   "version": "3.5.2"
  }
 },
 "nbformat": 4,
 "nbformat_minor": 2
}
